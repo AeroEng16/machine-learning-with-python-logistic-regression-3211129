{
  "nbformat": 4,
  "nbformat_minor": 0,
  "metadata": {
    "colab": {
      "provenance": [],
      "authorship_tag": "ABX9TyO/EJcCc14BoMGSHJeJsF0W",
      "include_colab_link": true
    },
    "kernelspec": {
      "name": "python3",
      "display_name": "Python 3"
    },
    "language_info": {
      "name": "python"
    }
  },
  "cells": [
    {
      "cell_type": "markdown",
      "metadata": {
        "id": "view-in-github",
        "colab_type": "text"
      },
      "source": [
        "<a href=\"https://colab.research.google.com/github/AeroEng16/machine-learning-with-python-logistic-regression-3211129/blob/main/04_PyTorchCustomDatasets.ipynb\" target=\"_parent\"><img src=\"https://colab.research.google.com/assets/colab-badge.svg\" alt=\"Open In Colab\"/></a>"
      ]
    },
    {
      "cell_type": "markdown",
      "source": [
        "## PyTorch Tutorial 4: Custom Datasets"
      ],
      "metadata": {
        "id": "Dm0LtRui7ab3"
      }
    },
    {
      "cell_type": "markdown",
      "source": [
        "We've used some datasets with PyTorch before but how do you get your own data into PyTorch?\n",
        "\n",
        "One of the ways to do so is via custom datasets.\n",
        "\n",
        "## Domain Libraries\n",
        "\n",
        "Depending on what you are working on, vision, text, audio etc. you'll want to look into each of the PyTorch domain libraries for existing dataloading libraries"
      ],
      "metadata": {
        "id": "tRhNKkZfEmm6"
      }
    },
    {
      "cell_type": "markdown",
      "source": [
        "## 0.Importing PyTorch and setting up Device agnostic code"
      ],
      "metadata": {
        "id": "dT2JrOtO90T_"
      }
    },
    {
      "cell_type": "code",
      "source": [
        "import torch\n",
        "from torch import nn\n",
        "\n",
        "torch.__version__"
      ],
      "metadata": {
        "colab": {
          "base_uri": "https://localhost:8080/",
          "height": 35
        },
        "id": "8zKF54FT-Cn-",
        "outputId": "db5d64c0-8f7d-4352-d581-676f09a17ef9"
      },
      "execution_count": null,
      "outputs": [
        {
          "output_type": "execute_result",
          "data": {
            "text/plain": [
              "'2.1.0+cu121'"
            ],
            "application/vnd.google.colaboratory.intrinsic+json": {
              "type": "string"
            }
          },
          "metadata": {},
          "execution_count": 2
        }
      ]
    },
    {
      "cell_type": "code",
      "source": [
        "# Device agnostic code\n",
        "\n",
        "device = \"cuda\" if torch.cuda.is_available() else \"cpu\"\n",
        "device"
      ],
      "metadata": {
        "colab": {
          "base_uri": "https://localhost:8080/",
          "height": 35
        },
        "id": "IcAG6pOV-Tho",
        "outputId": "bb4315c9-1c5a-4b05-99f2-5d2ee89005d6"
      },
      "execution_count": null,
      "outputs": [
        {
          "output_type": "execute_result",
          "data": {
            "text/plain": [
              "'cuda'"
            ],
            "application/vnd.google.colaboratory.intrinsic+json": {
              "type": "string"
            }
          },
          "metadata": {},
          "execution_count": 3
        }
      ]
    },
    {
      "cell_type": "code",
      "source": [
        "!nvidia-smi"
      ],
      "metadata": {
        "colab": {
          "base_uri": "https://localhost:8080/"
        },
        "id": "WupBMmBH-gjA",
        "outputId": "12052603-5edf-4934-aeaa-a8383d701a82"
      },
      "execution_count": null,
      "outputs": [
        {
          "output_type": "stream",
          "name": "stdout",
          "text": [
            "Sun Feb  4 07:17:08 2024       \n",
            "+---------------------------------------------------------------------------------------+\n",
            "| NVIDIA-SMI 535.104.05             Driver Version: 535.104.05   CUDA Version: 12.2     |\n",
            "|-----------------------------------------+----------------------+----------------------+\n",
            "| GPU  Name                 Persistence-M | Bus-Id        Disp.A | Volatile Uncorr. ECC |\n",
            "| Fan  Temp   Perf          Pwr:Usage/Cap |         Memory-Usage | GPU-Util  Compute M. |\n",
            "|                                         |                      |               MIG M. |\n",
            "|=========================================+======================+======================|\n",
            "|   0  Tesla T4                       Off | 00000000:00:04.0 Off |                    0 |\n",
            "| N/A   50C    P8               9W /  70W |      3MiB / 15360MiB |      0%      Default |\n",
            "|                                         |                      |                  N/A |\n",
            "+-----------------------------------------+----------------------+----------------------+\n",
            "                                                                                         \n",
            "+---------------------------------------------------------------------------------------+\n",
            "| Processes:                                                                            |\n",
            "|  GPU   GI   CI        PID   Type   Process name                            GPU Memory |\n",
            "|        ID   ID                                                             Usage      |\n",
            "|=======================================================================================|\n",
            "|  No running processes found                                                           |\n",
            "+---------------------------------------------------------------------------------------+\n"
          ]
        }
      ]
    },
    {
      "cell_type": "markdown",
      "source": [
        "## 1. Get Data\n",
        "\n",
        "Our dataset is a subset of the Food101 dataset. Food101 starts with 101 different classes of food and 1000 images per class (750 training and 250 test). Our dataset starts with 3 classes fo food and only 10% of the images (~75 training and 25 test)\n",
        "\n",
        "This is done to try things out on a small scale and then increase scale when necessary. Speeds up development."
      ],
      "metadata": {
        "id": "Qp9y7n5s-qCY"
      }
    },
    {
      "cell_type": "code",
      "source": [
        "import requests\n",
        "import zipfile\n",
        "from pathlib import Path\n",
        "data_path = Path(\"data/\")\n",
        "image_path = data_path / \"pizza_steak_sushi\"\n",
        "\n",
        "if image_path.is_dir():\n",
        "  print(f\"{image_path} directory already exists. \")\n",
        "else:\n",
        "  print(f\"{image_path} does not exist, creating it\")\n",
        "  image_path.mkdir(parents=True, exist_ok=True)\n",
        "\n",
        "with open(data_path/\"pizza_steak_sushi.zip\", \"wb\") as f:\n",
        "    request = requests.get(\"https://github.com/mrdbourke/pytorch-deep-learning/raw/main/data/pizza_steak_sushi.zip\")\n",
        "    print(\"Downloading pizza, steak, sushi data...\")\n",
        "    f.write(request.content)\n",
        "\n",
        "\n",
        "with zipfile.ZipFile(data_path/\"pizza_steak_sushi.zip\",\"r\") as zip_ref:\n",
        "  print(\"Unzipping datafile\")\n",
        "  zip_ref.extractall(image_path)"
      ],
      "metadata": {
        "colab": {
          "base_uri": "https://localhost:8080/"
        },
        "id": "ZKe2XXN4_xrY",
        "outputId": "f7be8c85-0df5-43b4-b6cf-b35106b297a5"
      },
      "execution_count": null,
      "outputs": [
        {
          "output_type": "stream",
          "name": "stdout",
          "text": [
            "data/pizza_steak_sushi directory already exists. \n",
            "Downloading pizza, steak, sushi data...\n",
            "Unzipping datafile\n"
          ]
        }
      ]
    },
    {
      "cell_type": "markdown",
      "source": [
        "## 2. Data preparation and exploration"
      ],
      "metadata": {
        "id": "y9Q98MrxCYT6"
      }
    },
    {
      "cell_type": "code",
      "source": [
        "import os\n",
        "\n",
        "def walk_through_dir(dir_path):\n",
        "  \"\"\"\n",
        "  Walks through dir_path returning its contents\n",
        "  \"\"\"\n",
        "  for dirpath, dirnames, filenames in os.walk(dir_path):\n",
        "    print(f\"There are {len(dirnames)} directories and {len(filenames)} images in {dirpath}\")\n"
      ],
      "metadata": {
        "id": "__glb99VCcYi"
      },
      "execution_count": null,
      "outputs": []
    },
    {
      "cell_type": "code",
      "source": [
        "walk_through_dir(image_path)"
      ],
      "metadata": {
        "colab": {
          "base_uri": "https://localhost:8080/"
        },
        "id": "cHxqI5KDC_C7",
        "outputId": "617853ca-6ce6-4a87-c013-5b6fc8b37ce0"
      },
      "execution_count": null,
      "outputs": [
        {
          "output_type": "stream",
          "name": "stdout",
          "text": [
            "There are 2 directories and 0 images in data/pizza_steak_sushi\n",
            "There are 3 directories and 0 images in data/pizza_steak_sushi/train\n",
            "There are 0 directories and 75 images in data/pizza_steak_sushi/train/steak\n",
            "There are 0 directories and 78 images in data/pizza_steak_sushi/train/pizza\n",
            "There are 0 directories and 72 images in data/pizza_steak_sushi/train/sushi\n",
            "There are 3 directories and 0 images in data/pizza_steak_sushi/test\n",
            "There are 0 directories and 19 images in data/pizza_steak_sushi/test/steak\n",
            "There are 0 directories and 25 images in data/pizza_steak_sushi/test/pizza\n",
            "There are 0 directories and 31 images in data/pizza_steak_sushi/test/sushi\n"
          ]
        }
      ]
    }
  ]
}