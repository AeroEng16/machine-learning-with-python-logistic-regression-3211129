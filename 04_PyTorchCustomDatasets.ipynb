{
  "nbformat": 4,
  "nbformat_minor": 0,
  "metadata": {
    "colab": {
      "provenance": [],
      "authorship_tag": "ABX9TyP+Mix6Y++Za61rv/ChooBp",
      "include_colab_link": true
    },
    "kernelspec": {
      "name": "python3",
      "display_name": "Python 3"
    },
    "language_info": {
      "name": "python"
    }
  },
  "cells": [
    {
      "cell_type": "markdown",
      "metadata": {
        "id": "view-in-github",
        "colab_type": "text"
      },
      "source": [
        "<a href=\"https://colab.research.google.com/github/AeroEng16/machine-learning-with-python-logistic-regression-3211129/blob/main/04_PyTorchCustomDatasets.ipynb\" target=\"_parent\"><img src=\"https://colab.research.google.com/assets/colab-badge.svg\" alt=\"Open In Colab\"/></a>"
      ]
    },
    {
      "cell_type": "markdown",
      "source": [
        "## PyTorch Tutorial 4: Custom Datasets"
      ],
      "metadata": {
        "id": "Dm0LtRui7ab3"
      }
    },
    {
      "cell_type": "code",
      "source": [],
      "metadata": {
        "id": "WVgcoe4y7f89"
      },
      "execution_count": null,
      "outputs": []
    }
  ]
}