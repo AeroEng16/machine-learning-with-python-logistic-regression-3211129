{
  "nbformat": 4,
  "nbformat_minor": 0,
  "metadata": {
    "colab": {
      "provenance": [],
      "gpuType": "T4",
      "authorship_tag": "ABX9TyOJuDoOA+Y+jCuURcYpBtG6",
      "include_colab_link": true
    },
    "kernelspec": {
      "name": "python3",
      "display_name": "Python 3"
    },
    "language_info": {
      "name": "python"
    },
    "accelerator": "GPU"
  },
  "cells": [
    {
      "cell_type": "markdown",
      "metadata": {
        "id": "view-in-github",
        "colab_type": "text"
      },
      "source": [
        "<a href=\"https://colab.research.google.com/github/AeroEng16/machine-learning-with-python-logistic-regression-3211129/blob/main/03_computerVision.ipynb\" target=\"_parent\"><img src=\"https://colab.research.google.com/assets/colab-badge.svg\" alt=\"Open In Colab\"/></a>"
      ]
    },
    {
      "cell_type": "markdown",
      "source": [
        "Tutorial link - https://youtu.be/V_xro1bcAuA\n",
        "https://learnpytorch.io\n",
        "\n",
        "**Got to 14:35 in video**"
      ],
      "metadata": {
        "id": "LgRLiwLvw1SP"
      }
    },
    {
      "cell_type": "markdown",
      "source": [
        "## 0. Computer vision libraries in PyTroch\n",
        "\n",
        "* `torchvision` consists of datasets, architectures and transformations for computer vision\n",
        "* `torchvision.datasets` - get datasets and dataloading functions for computer vision\n",
        "* `torchvision.models` - pre-trained computer vision models\n",
        "* `torchvision.transforms` functions for manipulating your vision data to be suitable for use with an ML model\n",
        "* `torch.utils.data.Dataset` - base dataset class for PyTorch\n",
        "* `torch.utils.data.DataLoader` - creates a Python iterable over a dataset"
      ],
      "metadata": {
        "id": "b00MXQfxbchR"
      }
    },
    {
      "cell_type": "code",
      "source": [
        "import torchvision\n",
        "import torch\n",
        "from torch import nn\n",
        "from torchvision import datasets,transforms\n",
        "from torchvision.transforms import ToTensor\n"
      ],
      "metadata": {
        "id": "EexhYiMucb7j"
      },
      "execution_count": 1,
      "outputs": []
    }
  ]
}