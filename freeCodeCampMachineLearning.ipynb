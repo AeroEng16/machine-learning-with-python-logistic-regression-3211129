{
  "nbformat": 4,
  "nbformat_minor": 0,
  "metadata": {
    "colab": {
      "provenance": [],
      "toc_visible": true,
      "gpuType": "T4",
      "authorship_tag": "ABX9TyMzP1Mi552ZX8AaXRgZUFfJ",
      "include_colab_link": true
    },
    "kernelspec": {
      "name": "python3",
      "display_name": "Python 3"
    },
    "language_info": {
      "name": "python"
    },
    "accelerator": "GPU"
  },
  "cells": [
    {
      "cell_type": "markdown",
      "metadata": {
        "id": "view-in-github",
        "colab_type": "text"
      },
      "source": [
        "<a href=\"https://colab.research.google.com/github/AeroEng16/machine-learning-with-python-logistic-regression-3211129/blob/main/freeCodeCampMachineLearning.ipynb\" target=\"_parent\"><img src=\"https://colab.research.google.com/assets/colab-badge.svg\" alt=\"Open In Colab\"/></a>"
      ]
    },
    {
      "cell_type": "markdown",
      "source": [
        "Tutorial link - https://youtu.be/V_xro1bcAuA\n",
        "https://learnpytorch.io"
      ],
      "metadata": {
        "id": "LgRLiwLvw1SP"
      }
    },
    {
      "cell_type": "code",
      "source": [],
      "metadata": {
        "id": "qeY7xeF1RqMx"
      },
      "execution_count": null,
      "outputs": []
    },
    {
      "cell_type": "code",
      "source": [
        "!nvidia-smi"
      ],
      "metadata": {
        "colab": {
          "base_uri": "https://localhost:8080/"
        },
        "id": "ye-rYD8ECimS",
        "outputId": "5a043f0a-3e66-448e-d614-a2d8b0628317"
      },
      "execution_count": null,
      "outputs": [
        {
          "output_type": "stream",
          "name": "stdout",
          "text": [
            "/bin/bash: line 1: nvidia-smi: command not found\n"
          ]
        }
      ]
    },
    {
      "cell_type": "code",
      "execution_count": null,
      "metadata": {
        "id": "ROZIWMkxV7Yr"
      },
      "outputs": [],
      "source": [
        "import numpy as np\n",
        "import pandas\n",
        "import matplotlib.pyplot as plt\n",
        "import torch\n"
      ]
    },
    {
      "cell_type": "code",
      "source": [
        "print (torch.__version__)"
      ],
      "metadata": {
        "colab": {
          "base_uri": "https://localhost:8080/"
        },
        "id": "ZdMzb_ArCoWS",
        "outputId": "f5724ea3-b10d-4557-e3cc-958b31142a24"
      },
      "execution_count": null,
      "outputs": [
        {
          "output_type": "stream",
          "name": "stdout",
          "text": [
            "2.0.1+cu118\n"
          ]
        }
      ]
    },
    {
      "cell_type": "markdown",
      "source": [
        "# Introduction to Tensors<br/>\n",
        "## Creating Tensors\n",
        "\n",
        "Pytorch tensors are created using tocher.tensor() = https://pytorch.org/docs/stable/tensors.html"
      ],
      "metadata": {
        "id": "0X7_angoETV2"
      }
    },
    {
      "cell_type": "code",
      "source": [
        "# Scalar\n",
        "\n",
        "scalar = torch.tensor(7)\n",
        "scalar\n",
        "\n"
      ],
      "metadata": {
        "colab": {
          "base_uri": "https://localhost:8080/"
        },
        "id": "y8XJ6GGKDBv1",
        "outputId": "083b215f-f1b8-498c-e849-28af4a6eaac1"
      },
      "execution_count": null,
      "outputs": [
        {
          "output_type": "execute_result",
          "data": {
            "text/plain": [
              "tensor(7)"
            ]
          },
          "metadata": {},
          "execution_count": 4
        }
      ]
    },
    {
      "cell_type": "code",
      "source": [
        "scalar.ndim"
      ],
      "metadata": {
        "colab": {
          "base_uri": "https://localhost:8080/"
        },
        "id": "tpAWxISwFwTu",
        "outputId": "63b18acd-5f5d-44c5-a018-e2171172a182"
      },
      "execution_count": null,
      "outputs": [
        {
          "output_type": "execute_result",
          "data": {
            "text/plain": [
              "0"
            ]
          },
          "metadata": {},
          "execution_count": 5
        }
      ]
    },
    {
      "cell_type": "code",
      "source": [
        "# Get tensor back as python int\n",
        "scalar.item()"
      ],
      "metadata": {
        "colab": {
          "base_uri": "https://localhost:8080/"
        },
        "id": "bnShuAkwFy-9",
        "outputId": "f80fcda0-e2b9-417c-d948-4e1898354292"
      },
      "execution_count": null,
      "outputs": [
        {
          "output_type": "execute_result",
          "data": {
            "text/plain": [
              "7"
            ]
          },
          "metadata": {},
          "execution_count": 6
        }
      ]
    },
    {
      "cell_type": "code",
      "source": [
        "#Vector\n",
        "\n",
        "vector = torch.tensor([7,7,7])\n",
        "vector.shape"
      ],
      "metadata": {
        "colab": {
          "base_uri": "https://localhost:8080/"
        },
        "id": "DXsyMv7LF6Vd",
        "outputId": "30f85816-7610-43b7-e62f-6430a3aa498a"
      },
      "execution_count": null,
      "outputs": [
        {
          "output_type": "execute_result",
          "data": {
            "text/plain": [
              "torch.Size([3])"
            ]
          },
          "metadata": {},
          "execution_count": 7
        }
      ]
    },
    {
      "cell_type": "code",
      "source": [
        "# MATRIX\n",
        "matrix = torch.tensor([[7,8],\n",
        "                       [9,10]])\n",
        "matrix[1,1]\n",
        "matrix.shape"
      ],
      "metadata": {
        "colab": {
          "base_uri": "https://localhost:8080/"
        },
        "id": "bWF6PQedGCw1",
        "outputId": "3a1a32b9-80b7-4641-a62e-c161eb2259a9"
      },
      "execution_count": null,
      "outputs": [
        {
          "output_type": "execute_result",
          "data": {
            "text/plain": [
              "torch.Size([2, 2])"
            ]
          },
          "metadata": {},
          "execution_count": 8
        }
      ]
    },
    {
      "cell_type": "code",
      "source": [
        "# TENSOR\n",
        "\n",
        "TENSOR = torch.tensor([[[1,2,3],\n",
        "                        [1,2,3],\n",
        "                        [2,5,4]],\n",
        "                         [[1,2,3],\n",
        "                          [1,2,3],\n",
        "                          [2,5,4]]])\n",
        "TENSOR[1]"
      ],
      "metadata": {
        "colab": {
          "base_uri": "https://localhost:8080/"
        },
        "id": "YOm65yaCF-BF",
        "outputId": "0d2f3ebe-d7a5-4c18-f3c5-aa06eb103892"
      },
      "execution_count": null,
      "outputs": [
        {
          "output_type": "execute_result",
          "data": {
            "text/plain": [
              "tensor([[1, 2, 3],\n",
              "        [1, 2, 3],\n",
              "        [2, 5, 4]])"
            ]
          },
          "metadata": {},
          "execution_count": 9
        }
      ]
    },
    {
      "cell_type": "markdown",
      "source": [
        "### Random Tensor\n",
        "\n",
        "why random tensors?\n",
        "\n",
        "Random tensors are important becuas eht eway many neural networks learn is that they start with tensors fill of random number sand then adjust those random numbers to better represent the data.\n"
      ],
      "metadata": {
        "id": "3gDEByzTKTq-"
      }
    },
    {
      "cell_type": "code",
      "source": [
        "# Create random tensors\n",
        "\n",
        "randomTensor = torch.rand([3,4])\n",
        "randomTensor"
      ],
      "metadata": {
        "colab": {
          "base_uri": "https://localhost:8080/"
        },
        "id": "IJQYz2eNKaCd",
        "outputId": "6f046685-2c2e-48f3-c32c-d83f9c7d34e6"
      },
      "execution_count": null,
      "outputs": [
        {
          "output_type": "execute_result",
          "data": {
            "text/plain": [
              "tensor([[0.0617, 0.4343, 0.3710, 0.1347],\n",
              "        [0.3846, 0.1461, 0.4725, 0.7203],\n",
              "        [0.5824, 0.3359, 0.1425, 0.5054]])"
            ]
          },
          "metadata": {},
          "execution_count": 10
        }
      ]
    },
    {
      "cell_type": "code",
      "source": [
        "# Create random tensor with similar shape to image tensor\n",
        "\n",
        "random_image_size_tensor = torch.rand(size=(224,224,3)) # height, width, color channels\n",
        "\n",
        "random_image_size_tensor.shape, random_image_size_tensor.ndim"
      ],
      "metadata": {
        "colab": {
          "base_uri": "https://localhost:8080/"
        },
        "id": "6g5YcAhLLVJG",
        "outputId": "760ef365-c3bf-49f7-871a-75cb98436512"
      },
      "execution_count": null,
      "outputs": [
        {
          "output_type": "execute_result",
          "data": {
            "text/plain": [
              "(torch.Size([224, 224, 3]), 3)"
            ]
          },
          "metadata": {},
          "execution_count": 11
        }
      ]
    },
    {
      "cell_type": "code",
      "source": [
        "# Zeros and onenes\n",
        "\n",
        "zeros = torch.zeros(size=[3,4])\n",
        "zeros\n",
        "zeros*randomTensor\n",
        "\n",
        "ones = torch.ones(size=[3,4])\n",
        "ones"
      ],
      "metadata": {
        "colab": {
          "base_uri": "https://localhost:8080/"
        },
        "id": "5QVrGZ59O8hI",
        "outputId": "9ee0b7a7-de6c-4095-a996-93813e3d564f"
      },
      "execution_count": null,
      "outputs": [
        {
          "output_type": "execute_result",
          "data": {
            "text/plain": [
              "tensor([[1., 1., 1., 1.],\n",
              "        [1., 1., 1., 1.],\n",
              "        [1., 1., 1., 1.]])"
            ]
          },
          "metadata": {},
          "execution_count": 12
        }
      ]
    },
    {
      "cell_type": "markdown",
      "source": [
        "### Creating a range of tensors and tensors-like"
      ],
      "metadata": {
        "id": "kE2I-YmgPm4t"
      }
    },
    {
      "cell_type": "code",
      "source": [
        "tensorRange = torch.arange(0,1000,10)"
      ],
      "metadata": {
        "id": "V7LyKoL2PsQd"
      },
      "execution_count": null,
      "outputs": []
    },
    {
      "cell_type": "code",
      "source": [
        "#Creating tensors-like\n",
        "\n",
        "rangeZeros = torch.zeros_like(input=tensorRange)\n",
        "rangeZeros"
      ],
      "metadata": {
        "colab": {
          "base_uri": "https://localhost:8080/"
        },
        "id": "YWj6xWEsQH-1",
        "outputId": "a49b40ef-44a0-4d7a-dc5d-982690d5790a"
      },
      "execution_count": null,
      "outputs": [
        {
          "output_type": "execute_result",
          "data": {
            "text/plain": [
              "tensor([0, 0, 0, 0, 0, 0, 0, 0, 0, 0, 0, 0, 0, 0, 0, 0, 0, 0, 0, 0, 0, 0, 0, 0,\n",
              "        0, 0, 0, 0, 0, 0, 0, 0, 0, 0, 0, 0, 0, 0, 0, 0, 0, 0, 0, 0, 0, 0, 0, 0,\n",
              "        0, 0, 0, 0, 0, 0, 0, 0, 0, 0, 0, 0, 0, 0, 0, 0, 0, 0, 0, 0, 0, 0, 0, 0,\n",
              "        0, 0, 0, 0, 0, 0, 0, 0, 0, 0, 0, 0, 0, 0, 0, 0, 0, 0, 0, 0, 0, 0, 0, 0,\n",
              "        0, 0, 0, 0])"
            ]
          },
          "metadata": {},
          "execution_count": 14
        }
      ]
    },
    {
      "cell_type": "markdown",
      "source": [
        "### Tensor Datatypes\n",
        "\n",
        "** Note:** Tensor datatypes if one of the 3 biggest error sources you run into with pytorch and deep learning\n",
        "1. Tensors not right datatype\n",
        "2. Tensors not right shape\n",
        "3. Tensors not on right device"
      ],
      "metadata": {
        "id": "dH74JLj9S0Tz"
      }
    },
    {
      "cell_type": "code",
      "source": [
        "#Float 32 tensor\n",
        "\n",
        "float_32_tensor = torch.tensor([3.0,6.0,9.0],\n",
        "                               dtype=torch.float32, # Define tensor datatype\n",
        "                               device=None,         # Defines what device (i.e. CPU vs. GPU) the tensor is on. Operations between tensors need to be on same device\n",
        "                               requires_grad=False) # Track the gradients (yes/no)\n",
        "float_32_tensor.dtype\n",
        "\n",
        "float_16_tensor=float_32_tensor.type(torch.float16)\n",
        "product = float_16_tensor*float_32_tensor\n",
        "product.dtype"
      ],
      "metadata": {
        "colab": {
          "base_uri": "https://localhost:8080/"
        },
        "id": "ExED5yQES4y1",
        "outputId": "6538c6c2-1afe-4433-f48c-36d3910a6b51"
      },
      "execution_count": null,
      "outputs": [
        {
          "output_type": "execute_result",
          "data": {
            "text/plain": [
              "torch.float32"
            ]
          },
          "metadata": {},
          "execution_count": 15
        }
      ]
    },
    {
      "cell_type": "markdown",
      "source": [
        "## Reshaping, stacking, squeezing and unsqueezing tnesors\n",
        "\n",
        "* Reshaping - reshapes an input tensor to a defined shape\n",
        "* view - return a view of an input tensor of certain shape but keep the same memory as the original tensor\n",
        "* Stacking - combine multiple tensors on top of each other (vstack/hstack)\n",
        "* squeeze - remove all '1' dimensions from a tensor\n",
        "* unqsqueeze - adds a '1' dimension to a tensor\n",
        "* permute - return a view of the input with dimensions permuted (swapped) in a certain way"
      ],
      "metadata": {
        "id": "TbGYIKP5RF2b"
      }
    },
    {
      "cell_type": "code",
      "source": [
        "x = torch.arange(1,10)\n",
        "x,x.shape"
      ],
      "metadata": {
        "colab": {
          "base_uri": "https://localhost:8080/"
        },
        "id": "aP3w_x-pR2m0",
        "outputId": "da789b99-d4f8-4945-eaf2-f1239b4e6f24"
      },
      "execution_count": null,
      "outputs": [
        {
          "output_type": "execute_result",
          "data": {
            "text/plain": [
              "(tensor([1, 2, 3, 4, 5, 6, 7, 8, 9]), torch.Size([9]))"
            ]
          },
          "metadata": {},
          "execution_count": 16
        }
      ]
    },
    {
      "cell_type": "code",
      "source": [
        "# Change dimensions\n",
        "x_reshaped=x.reshape(3,3)\n",
        "x_reshaped,x.shape"
      ],
      "metadata": {
        "colab": {
          "base_uri": "https://localhost:8080/"
        },
        "id": "ajInnx2nSWnf",
        "outputId": "1b53cd6e-d4ff-4188-acdf-5498f026664f"
      },
      "execution_count": null,
      "outputs": [
        {
          "output_type": "execute_result",
          "data": {
            "text/plain": [
              "(tensor([[1, 2, 3],\n",
              "         [4, 5, 6],\n",
              "         [7, 8, 9]]),\n",
              " torch.Size([9]))"
            ]
          },
          "metadata": {},
          "execution_count": 17
        }
      ]
    },
    {
      "cell_type": "code",
      "source": [
        "# Change view\n",
        "\n",
        "z = x.view(1,9)\n",
        "z,z.shape"
      ],
      "metadata": {
        "colab": {
          "base_uri": "https://localhost:8080/"
        },
        "id": "0uYaqnPZSyMy",
        "outputId": "b8b790cc-6c5b-47cb-c57c-3b6b968f84c6"
      },
      "execution_count": null,
      "outputs": [
        {
          "output_type": "execute_result",
          "data": {
            "text/plain": [
              "(tensor([[1, 2, 3, 4, 5, 6, 7, 8, 9]]), torch.Size([1, 9]))"
            ]
          },
          "metadata": {},
          "execution_count": 18
        }
      ]
    },
    {
      "cell_type": "code",
      "source": [
        "# Changing z changes x as a view of a tensor shares the same memory as the original tensor\n",
        "\n",
        "z[:,0]=5\n",
        "z,x"
      ],
      "metadata": {
        "colab": {
          "base_uri": "https://localhost:8080/"
        },
        "id": "rbfqWuQQTRoI",
        "outputId": "920ea3d8-5e1e-4b7a-f575-8e8251648d35"
      },
      "execution_count": null,
      "outputs": [
        {
          "output_type": "execute_result",
          "data": {
            "text/plain": [
              "(tensor([[5, 2, 3, 4, 5, 6, 7, 8, 9]]), tensor([5, 2, 3, 4, 5, 6, 7, 8, 9]))"
            ]
          },
          "metadata": {},
          "execution_count": 19
        }
      ]
    },
    {
      "cell_type": "code",
      "source": [
        "# Stack on top of each other\n",
        "\n",
        "x_stacked = torch.stack([x,x,x,x],dim=1)\n",
        "x_stacked"
      ],
      "metadata": {
        "colab": {
          "base_uri": "https://localhost:8080/"
        },
        "id": "r4wNN5FkTjKh",
        "outputId": "b8a5335a-4119-4ecd-d805-ca3faa040302"
      },
      "execution_count": null,
      "outputs": [
        {
          "output_type": "execute_result",
          "data": {
            "text/plain": [
              "tensor([[5, 5, 5, 5],\n",
              "        [2, 2, 2, 2],\n",
              "        [3, 3, 3, 3],\n",
              "        [4, 4, 4, 4],\n",
              "        [5, 5, 5, 5],\n",
              "        [6, 6, 6, 6],\n",
              "        [7, 7, 7, 7],\n",
              "        [8, 8, 8, 8],\n",
              "        [9, 9, 9, 9]])"
            ]
          },
          "metadata": {},
          "execution_count": 21
        }
      ]
    },
    {
      "cell_type": "code",
      "source": [
        "# torch.squeeze remove all 1 dimensions from tensor\n",
        "\n",
        "x_squeeze = torch.squeeze(x)\n",
        "x_squeeze,x.shape,x_squeeze.shape"
      ],
      "metadata": {
        "colab": {
          "base_uri": "https://localhost:8080/"
        },
        "id": "07kdK1U8UDH6",
        "outputId": "1a200818-34e7-4cf8-a110-421839c1f670"
      },
      "execution_count": null,
      "outputs": [
        {
          "output_type": "execute_result",
          "data": {
            "text/plain": [
              "(tensor([5, 2, 3, 4, 5, 6, 7, 8, 9]), torch.Size([9]), torch.Size([9]))"
            ]
          },
          "metadata": {},
          "execution_count": 23
        }
      ]
    },
    {
      "cell_type": "markdown",
      "source": [
        "## Pytorch tensors & numpy\n",
        "\n",
        "* data in numpy want in torch -. torch.from_numpy(ndarray)\n",
        "* tensor-> numpy torch.Tensor.numpy()"
      ],
      "metadata": {
        "id": "HKVH7hQAV2La"
      }
    },
    {
      "cell_type": "code",
      "source": [
        "array = np.arange(1,10)\n",
        "tensor = torch.from_numpy(array) # warning when converting from numpy to pytorch, pytorch reflects numpy default float 64 unless specified otherwise\n",
        "array,tensor"
      ],
      "metadata": {
        "colab": {
          "base_uri": "https://localhost:8080/"
        },
        "id": "F2AClCptWGoY",
        "outputId": "43692463-a5fa-4339-bda7-4092b74090c8"
      },
      "execution_count": null,
      "outputs": [
        {
          "output_type": "execute_result",
          "data": {
            "text/plain": [
              "(array([1, 2, 3, 4, 5, 6, 7, 8, 9]), tensor([1, 2, 3, 4, 5, 6, 7, 8, 9]))"
            ]
          },
          "metadata": {},
          "execution_count": 24
        }
      ]
    },
    {
      "cell_type": "code",
      "source": [
        "# Change value of array\n",
        "\n",
        "array = array+1\n",
        "array,tensor"
      ],
      "metadata": {
        "colab": {
          "base_uri": "https://localhost:8080/"
        },
        "id": "voHVqfNvWmaQ",
        "outputId": "420aca68-7fae-49c1-b446-bf179fb46ded"
      },
      "execution_count": null,
      "outputs": [
        {
          "output_type": "execute_result",
          "data": {
            "text/plain": [
              "(array([ 2,  3,  4,  5,  6,  7,  8,  9, 10]),\n",
              " tensor([1, 2, 3, 4, 5, 6, 7, 8, 9]))"
            ]
          },
          "metadata": {},
          "execution_count": 25
        }
      ]
    },
    {
      "cell_type": "code",
      "source": [
        "# Tensor to numpy\n",
        "\n",
        "tensor = torch.ones(7)\n",
        "numpy_tensor = tensor.numpy()\n",
        "tensor,numpy_tensor"
      ],
      "metadata": {
        "colab": {
          "base_uri": "https://localhost:8080/"
        },
        "id": "9F8VGmYtW9uq",
        "outputId": "e2df0f00-c47c-4a67-9006-dd6b1329aeb8"
      },
      "execution_count": null,
      "outputs": [
        {
          "output_type": "execute_result",
          "data": {
            "text/plain": [
              "(tensor([1., 1., 1., 1., 1., 1., 1.]),\n",
              " array([1., 1., 1., 1., 1., 1., 1.], dtype=float32))"
            ]
          },
          "metadata": {},
          "execution_count": 26
        }
      ]
    },
    {
      "cell_type": "markdown",
      "source": [
        "## Reproducability (trying to take random out of random)\n",
        "\n",
        "In short neural network starts with random numbers, tensor operations, update random numbers to try and better represent data -> again -> again -> again.\n",
        "\n"
      ],
      "metadata": {
        "id": "uTNXXD4nXSq5"
      }
    },
    {
      "cell_type": "code",
      "source": [
        "import torch\n",
        "torch.rand(1)\n"
      ],
      "metadata": {
        "id": "8QdDwnFFRtbk",
        "outputId": "36898553-9708-4727-c54f-62ea718ff692",
        "colab": {
          "base_uri": "https://localhost:8080/"
        }
      },
      "execution_count": 1,
      "outputs": [
        {
          "output_type": "execute_result",
          "data": {
            "text/plain": [
              "tensor([0.2141])"
            ]
          },
          "metadata": {},
          "execution_count": 1
        }
      ]
    },
    {
      "cell_type": "code",
      "source": [
        "torch.manual_seed(0)\n",
        "tensor = torch.rand(7,7)\n",
        "tensor,tensor.shape\n",
        "torch.manual_seed(0)\n",
        "tensor_2  = torch.rand(1,7)\n",
        "tensor_2.reshape(7,1)\n",
        "tensor_2*tensor"
      ],
      "metadata": {
        "id": "zIMFqR2DR45j",
        "outputId": "06aee4ce-e79c-4a32-eb66-d971776127ec",
        "colab": {
          "base_uri": "https://localhost:8080/"
        }
      },
      "execution_count": 10,
      "outputs": [
        {
          "output_type": "execute_result",
          "data": {
            "text/plain": [
              "tensor([[0.2463, 0.5902, 0.0078, 0.0174, 0.0945, 0.4021, 0.2402],\n",
              "        [0.4449, 0.3500, 0.0559, 0.0461, 0.1235, 0.0142, 0.0828],\n",
              "        [0.1458, 0.3983, 0.0617, 0.1056, 0.0495, 0.1790, 0.3341],\n",
              "        [0.4542, 0.3051, 0.0773, 0.0554, 0.1700, 0.6041, 0.0177],\n",
              "        [0.0919, 0.2869, 0.0270, 0.1231, 0.0541, 0.1711, 0.0738],\n",
              "        [0.0157, 0.1599, 0.0823, 0.0955, 0.2282, 0.3337, 0.1194],\n",
              "        [0.2901, 0.0255, 0.0123, 0.0320, 0.2507, 0.5029, 0.1364]])"
            ]
          },
          "metadata": {},
          "execution_count": 10
        }
      ]
    },
    {
      "cell_type": "code",
      "source": [
        "torch.cuda.manual_seed(1234)\n",
        "\n",
        "tensor1_GPU = torch.rand(2,3,device=\"cuda\")\n",
        "tensor2_GPU = torch.rand(2,3,device=\"cuda\").reshape(3,2)\n",
        "\n",
        "product = torch.matmul(tensor1_GPU,tensor2_GPU)"
      ],
      "metadata": {
        "id": "SGqNf7TuSjGk"
      },
      "execution_count": 22,
      "outputs": []
    },
    {
      "cell_type": "code",
      "source": [
        "max = product.max()\n",
        "min = product.min()\n",
        "maxIndex = product.argmax()\n",
        "minIndex = product.argmin()\n",
        "product, max,maxIndex,min,minIndex"
      ],
      "metadata": {
        "id": "Z-yeql8FT1n8",
        "outputId": "5985fa3f-4dd4-4620-bed4-0e1b81bab3bb",
        "colab": {
          "base_uri": "https://localhost:8080/"
        }
      },
      "execution_count": 28,
      "outputs": [
        {
          "output_type": "execute_result",
          "data": {
            "text/plain": [
              "(tensor([[0.7154, 0.2908],\n",
              "         [1.1616, 0.3998]], device='cuda:0'),\n",
              " tensor(1.1616, device='cuda:0'),\n",
              " tensor(2, device='cuda:0'),\n",
              " tensor(0.2908, device='cuda:0'),\n",
              " tensor(1, device='cuda:0'))"
            ]
          },
          "metadata": {},
          "execution_count": 28
        }
      ]
    },
    {
      "cell_type": "code",
      "source": [
        "torch.manual_seed(7)\n",
        "tensor3 = torch.rand(1,1,1,10)\n",
        "tensor3Squeezed = tensor3.squeeze()\n",
        "\n",
        "tensor3,tensor3.shape,tensor3Squeezed,tensor3Squeezed.shape"
      ],
      "metadata": {
        "id": "OzT1mVtkUUrk",
        "outputId": "d59a96d2-19af-4e81-e9e9-72a6f0488294",
        "colab": {
          "base_uri": "https://localhost:8080/"
        }
      },
      "execution_count": 33,
      "outputs": [
        {
          "output_type": "execute_result",
          "data": {
            "text/plain": [
              "(tensor([[[[0.5349, 0.1988, 0.6592, 0.6569, 0.2328, 0.4251, 0.2071, 0.6297,\n",
              "            0.3653, 0.8513]]]]),\n",
              " torch.Size([1, 1, 1, 10]),\n",
              " tensor([0.5349, 0.1988, 0.6592, 0.6569, 0.2328, 0.4251, 0.2071, 0.6297, 0.3653,\n",
              "         0.8513]),\n",
              " torch.Size([10]))"
            ]
          },
          "metadata": {},
          "execution_count": 33
        }
      ]
    }
  ]
}