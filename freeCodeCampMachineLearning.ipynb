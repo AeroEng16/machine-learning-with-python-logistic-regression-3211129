{
  "nbformat": 4,
  "nbformat_minor": 0,
  "metadata": {
    "colab": {
      "provenance": [],
      "gpuType": "T4",
      "authorship_tag": "ABX9TyNwPMnhWK2bX99D7MipBWZp",
      "include_colab_link": true
    },
    "kernelspec": {
      "name": "python3",
      "display_name": "Python 3"
    },
    "language_info": {
      "name": "python"
    },
    "accelerator": "GPU"
  },
  "cells": [
    {
      "cell_type": "markdown",
      "metadata": {
        "id": "view-in-github",
        "colab_type": "text"
      },
      "source": [
        "<a href=\"https://colab.research.google.com/github/AeroEng16/machine-learning-with-python-logistic-regression-3211129/blob/main/freeCodeCampMachineLearning.ipynb\" target=\"_parent\"><img src=\"https://colab.research.google.com/assets/colab-badge.svg\" alt=\"Open In Colab\"/></a>"
      ]
    },
    {
      "cell_type": "markdown",
      "source": [
        "Tutorial link - https://youtu.be/V_xro1bcAuA\n",
        "https://learnpytorch.io"
      ],
      "metadata": {
        "id": "LgRLiwLvw1SP"
      }
    },
    {
      "cell_type": "markdown",
      "source": [
        "# Pytorch workflow\n",
        "\n"
      ],
      "metadata": {
        "id": "2Yb8QMPedrH4"
      }
    },
    {
      "cell_type": "code",
      "source": [
        "import torch\n",
        "import numpy as np\n",
        "import pandas\n",
        "from torch import nn # nn contains all of Pytorch building blocks for neural nets\n",
        "import matplotlib.pyplot as plt\n",
        "\n",
        "torch.__version__"
      ],
      "metadata": {
        "colab": {
          "base_uri": "https://localhost:8080/",
          "height": 35
        },
        "id": "dzLFEpKUdxsY",
        "outputId": "81badbf6-40c9-4cb1-8dfe-04f522164741"
      },
      "execution_count": 41,
      "outputs": [
        {
          "output_type": "execute_result",
          "data": {
            "text/plain": [
              "'2.0.1+cu118'"
            ],
            "application/vnd.google.colaboratory.intrinsic+json": {
              "type": "string"
            }
          },
          "metadata": {},
          "execution_count": 41
        }
      ]
    },
    {
      "cell_type": "markdown",
      "source": [
        "## 1. Data (preparing and loading)\n",
        "\n",
        "* Excel data\n",
        "* Images, videos\n",
        "* audio\n",
        "* text\n",
        "\n",
        "Machine learning is a game of two parts:\n",
        "1. Data into numerical representation\n",
        "2. Build a model to learn patterns in data\n",
        "\n",
        "To show this we'll generate data with linear regression with *known* **parameters**"
      ],
      "metadata": {
        "id": "7L_vhe2xeo7f"
      }
    },
    {
      "cell_type": "code",
      "source": [
        "# Create *known* parameters\n",
        "\n",
        "weight = 0.7\n",
        "bias = 0.3\n",
        "\n",
        "# Create data\n",
        "\n",
        "start = 0\n",
        "end = 1\n",
        "step = 0.02\n",
        "X = torch.arange(start,end,step).unsqueeze(dim=1)\n",
        "Y = weight*X+bias\n",
        "\n",
        "X[:10],Y[:10]"
      ],
      "metadata": {
        "colab": {
          "base_uri": "https://localhost:8080/"
        },
        "id": "TgGhFg4re0q4",
        "outputId": "242b1571-7d49-4879-d6ae-eb56a06a98ad"
      },
      "execution_count": 42,
      "outputs": [
        {
          "output_type": "execute_result",
          "data": {
            "text/plain": [
              "(tensor([[0.0000],\n",
              "         [0.0200],\n",
              "         [0.0400],\n",
              "         [0.0600],\n",
              "         [0.0800],\n",
              "         [0.1000],\n",
              "         [0.1200],\n",
              "         [0.1400],\n",
              "         [0.1600],\n",
              "         [0.1800]]),\n",
              " tensor([[0.3000],\n",
              "         [0.3140],\n",
              "         [0.3280],\n",
              "         [0.3420],\n",
              "         [0.3560],\n",
              "         [0.3700],\n",
              "         [0.3840],\n",
              "         [0.3980],\n",
              "         [0.4120],\n",
              "         [0.4260]]))"
            ]
          },
          "metadata": {},
          "execution_count": 42
        }
      ]
    },
    {
      "cell_type": "markdown",
      "source": [
        "### Splitting data into training and test sets (one of the most important concepts in machine learning in general)\n"
      ],
      "metadata": {
        "id": "pW1s2egcgTQA"
      }
    },
    {
      "cell_type": "code",
      "source": [
        "# Create train/split\n",
        "train_split = int(0.8*len(X))\n",
        "X_train,Y_train = X[:train_split],Y[:train_split]\n",
        "X_test,Y_test = X[train_split:],Y[train_split:]\n",
        "\n",
        "len(X_train),len(X_test),len(Y_train),len(Y_test)"
      ],
      "metadata": {
        "colab": {
          "base_uri": "https://localhost:8080/"
        },
        "id": "Y8-jjRrgiT4e",
        "outputId": "e8d004a1-a817-4cc8-8c18-d1aa7e102af5"
      },
      "execution_count": 43,
      "outputs": [
        {
          "output_type": "execute_result",
          "data": {
            "text/plain": [
              "(40, 10, 40, 10)"
            ]
          },
          "metadata": {},
          "execution_count": 43
        }
      ]
    },
    {
      "cell_type": "markdown",
      "source": [
        "**How might we better visualize data?**\n",
        "\n"
      ],
      "metadata": {
        "id": "EfCRBHmyjGDd"
      }
    },
    {
      "cell_type": "code",
      "source": [
        "def plotPrediction(train_data=X_train,\n",
        "                   train_labels = Y_train,\n",
        "                   test_data = X_test,\n",
        "                   test_labels = Y_test,\n",
        "                   predictions = None):\n",
        "  '''\n",
        "  Plots training data, test data and compares predictions.\n",
        "  '''\n",
        "\n",
        "  plt.figure(figsize=(10,7))\n",
        "  #Plot training in blue\n",
        "  plt.scatter(train_data,train_labels,c=\"b\",s=4,label=\"Training data\")\n",
        "  #Plot test data in green\n",
        "  plt.scatter(test_data,test_labels,c=\"g\",s=4,label=\"Testing data\")\n",
        "  #Are there predictions?\n",
        "  if predictions is not None:\n",
        "    plt.scatter(test_data,predictions,c=\"r\",s=4,label=\"Predictions\")\n",
        "  plt.legend(prop={\"size\":14});\n",
        "  plt.show()"
      ],
      "metadata": {
        "id": "ln9nzMwWjXbV"
      },
      "execution_count": 44,
      "outputs": []
    },
    {
      "cell_type": "code",
      "source": [
        "plotPrediction(X_train,Y_train,X_test,Y_test)"
      ],
      "metadata": {
        "colab": {
          "base_uri": "https://localhost:8080/",
          "height": 486
        },
        "id": "0Oqkz4JVj2PN",
        "outputId": "ea21dd70-97f2-46cb-a4e5-819a13ef3caf"
      },
      "execution_count": 45,
      "outputs": [
        {
          "output_type": "display_data",
          "data": {
            "text/plain": [
              "<Figure size 1000x700 with 1 Axes>"
            ],
            "image/png": "[encoded data removed]"
          },
          "metadata": {}
        }
      ]
    },
    {
      "cell_type": "markdown",
      "source": [
        "##2. Build model\n",
        "\n",
        "Class explanation for python as torch is class heavy:\n",
        "\n",
        "https://realpython.com/python3-object-oriented-programming/\n",
        "\n",
        "What our model does:\n",
        "* start with random values\n",
        "* iterate to minimise error\n",
        "\n",
        "Two main algorithms (3blue1brown playlist = https://www.youtube.com/playlist?list=PLZHQObOWTQDNU6R1_67000Dx_ZCJB-3pi):\n",
        "1. Gradient Descent\n",
        "2. Backpropagation"
      ],
      "metadata": {
        "id": "vxTRWLEqkymW"
      }
    },
    {
      "cell_type": "code",
      "source": [
        "# Create a linear regression model class\n",
        "\n",
        "class LinearRegressionModel(nn.Module):\n",
        "  def __init__(self):\n",
        "    super().__init__()\n",
        "    self.weights = nn.Parameter(torch.randn(1,                  # <- start with a random weight and adjust to ideal weight\n",
        "                                            requires_grad=True, # <- can this variable be updated via gradient descent\n",
        "                                            dtype=torch.float))\n",
        "    self.bias = nn.Parameter(torch.randn(1,\n",
        "                                         requires_grad=True,\n",
        "                                         dtype=torch.float))\n",
        "\n",
        "    # Forward method to define the computation in the model\n",
        "  def forward(self, x: torch.Tensor) -> torch.Tensor: # <- x is the input data\n",
        "      return self.weights*x+self.bias"
      ],
      "metadata": {
        "id": "lf-Oto_fk2Mv"
      },
      "execution_count": 46,
      "outputs": []
    },
    {
      "cell_type": "markdown",
      "source": [
        "#### PyTorch Model building essentials\n",
        "\n",
        "* torch.nn - contains all of the building blocks for computational graphs (a neural network can be considered a computational graph)\n",
        "* torch.nn.Parameter - what parameters should our model try and learn (often a pytorch layer from torch.nn will set these for us)\n",
        "* torch.nn.module - The base class for all neural network modules, if you subclass it you should overwrite the forward method.\n",
        "* torch.optim - this is where the optimisers in PyTorch live, they will help with gradient descent.\n",
        "* def forward() - all nn.module subclasses require you to overwrite forward(), this method defines what happens in the forward computation.\n",
        "\n",
        "PyTorch cheat sheet - https://pytorch.org/tutorials/beginner/ptcheat.html\n"
      ],
      "metadata": {
        "id": "h7m5Uv_conJK"
      }
    },
    {
      "cell_type": "markdown",
      "source": [
        "### Checking the contents of our Torch model\n",
        "\n",
        "Now we've created a model, lets see whats inside.\n",
        "\n",
        "We can check our model parametesr using .parameters()"
      ],
      "metadata": {
        "id": "2nosdEy4p5hs"
      }
    },
    {
      "cell_type": "code",
      "source": [
        "# Create a random seed\n",
        "torch.manual_seed(42)\n",
        "\n",
        "# Create an instance of our linear regression model (a subclass of nn.module)\n",
        "model_0 = LinearRegressionModel()\n",
        "\n",
        "#Check out parameters\n",
        "list(model_0.parameters())"
      ],
      "metadata": {
        "colab": {
          "base_uri": "https://localhost:8080/"
        },
        "id": "7bG6cP7dp_AI",
        "outputId": "4c0cdedc-1ef2-40e1-bd97-768a4aa121ce"
      },
      "execution_count": 47,
      "outputs": [
        {
          "output_type": "execute_result",
          "data": {
            "text/plain": [
              "[Parameter containing:\n",
              " tensor([0.3367], requires_grad=True),\n",
              " Parameter containing:\n",
              " tensor([0.1288], requires_grad=True)]"
            ]
          },
          "metadata": {},
          "execution_count": 47
        }
      ]
    },
    {
      "cell_type": "code",
      "source": [
        "#List named parameters\n",
        "model_0.state_dict()"
      ],
      "metadata": {
        "colab": {
          "base_uri": "https://localhost:8080/"
        },
        "id": "HRAGb0Htr4ay",
        "outputId": "c353024a-c1cc-44ba-aa21-c891196f9a19"
      },
      "execution_count": 48,
      "outputs": [
        {
          "output_type": "execute_result",
          "data": {
            "text/plain": [
              "OrderedDict([('weights', tensor([0.3367])), ('bias', tensor([0.1288]))])"
            ]
          },
          "metadata": {},
          "execution_count": 48
        }
      ]
    },
    {
      "cell_type": "markdown",
      "source": [
        "### Making preduction using torch.inference_mode()\n",
        "\n",
        "To check models predictive power, see how well it preidcts Y-test based on X_test\n",
        "\n",
        "When we pass data through the model, its going to run it through the forward method.\n"
      ],
      "metadata": {
        "id": "LIh02DmMsDaW"
      }
    },
    {
      "cell_type": "code",
      "source": [
        "# Make predutcions with model\n",
        "with torch.inference_mode():\n",
        "  Y_preds = model_0(X_test)\n",
        "\n",
        "Y_preds"
      ],
      "metadata": {
        "colab": {
          "base_uri": "https://localhost:8080/"
        },
        "id": "FkiUeL9IsU7F",
        "outputId": "e0220769-99ea-4dd1-ce4f-d6b90fe8f321"
      },
      "execution_count": 49,
      "outputs": [
        {
          "output_type": "execute_result",
          "data": {
            "text/plain": [
              "tensor([[0.3982],\n",
              "        [0.4049],\n",
              "        [0.4116],\n",
              "        [0.4184],\n",
              "        [0.4251],\n",
              "        [0.4318],\n",
              "        [0.4386],\n",
              "        [0.4453],\n",
              "        [0.4520],\n",
              "        [0.4588]])"
            ]
          },
          "metadata": {},
          "execution_count": 49
        }
      ]
    },
    {
      "cell_type": "markdown",
      "source": [
        "## 3. Train model\n",
        "\n",
        "The whole idea of training is for a model to move from some unknown parameters to some known parameters; to better represent the data.\n",
        "\n",
        "One way to measure the model performance is to use a loss function (also known as a criterion or cost function).\n",
        "\n",
        "* **Loss Function** - Function to measure how wrong predictions are, lower is better.\n",
        "* **Optimiser** - takes into account loss of model and adjusts models parameters to reduce the loss function.\n",
        " - Insider the optimiser you'll often set two parameters. *params* - the model parameters we want to optimiser and *lr* the model learning rate\n",
        "\n",
        "And especificaly for PyTorch, we need:\n",
        "* A training loop\n",
        "* A testing loop"
      ],
      "metadata": {
        "id": "eS1b85m0tcP-"
      }
    },
    {
      "cell_type": "code",
      "source": [
        "model_0.state_dict()"
      ],
      "metadata": {
        "id": "HWVAe8Bx2qfd",
        "outputId": "390b40ae-3350-4241-d017-dea310709ccb",
        "colab": {
          "base_uri": "https://localhost:8080/"
        }
      },
      "execution_count": 50,
      "outputs": [
        {
          "output_type": "execute_result",
          "data": {
            "text/plain": [
              "OrderedDict([('weights', tensor([0.3367])), ('bias', tensor([0.1288]))])"
            ]
          },
          "metadata": {},
          "execution_count": 50
        }
      ]
    },
    {
      "cell_type": "code",
      "source": [
        "# Setup a loss function\n",
        "\n",
        "loss_fn = nn.L1Loss()\n",
        "\n",
        "\n",
        "# Setup an optimiser (stochastic gradient descent)\n",
        "\n",
        "optimiser = torch.optim.SGD(params=model_0.parameters(),\n",
        "                            lr = 0.01,        #lr = learning rate => possibly most important hyperparameter\n",
        "                            )\n",
        "\n",
        "loss_fn\n"
      ],
      "metadata": {
        "id": "0SVhphrc4AA0",
        "outputId": "b2fc6039-d565-4c93-9db4-46176c73120c",
        "colab": {
          "base_uri": "https://localhost:8080/"
        }
      },
      "execution_count": 51,
      "outputs": [
        {
          "output_type": "execute_result",
          "data": {
            "text/plain": [
              "L1Loss()"
            ]
          },
          "metadata": {},
          "execution_count": 51
        }
      ]
    },
    {
      "cell_type": "markdown",
      "source": [
        "**Q**Which loss function and optimiser to use?\n",
        "**A**: Very problem specific"
      ],
      "metadata": {
        "id": "JlIeQga25l2_"
      }
    },
    {
      "cell_type": "markdown",
      "source": [
        "### Building a training loop (and a testing loop) in PyTorch\n",
        "\n",
        "A couple of things we need in a training loop:\n",
        "\n",
        "Loop through the data and do:\n",
        "1. Forward pass (this involves data moving through our model's `forward()` functions) - to make preducts on data - also called forward propagation\n",
        "2. Calculate the loss (compare forward pass predictions to labels(\n",
        "3. Optimiser zero grad\n",
        "4. Loss backward - move backwards through the network to calcualte the gradients of each of the parameters of our model with respect to the loss (**backpropagation**).\n",
        "5. Optimiser step - use the optimiser to adjust our model's parameters to try and improve the loss. (**gradient descent**)\n"
      ],
      "metadata": {
        "id": "wHN6aSam5xm4"
      }
    },
    {
      "cell_type": "code",
      "source": [
        "# An epoch is one loop through the data (this is a hyperparameter as we've set it ourselves)\n",
        "epochs = 200\n",
        "# Track different values\n",
        "epoch_count = []\n",
        "loss_values =[]\n",
        "test_loss_values = []\n",
        "### Training\n",
        "# 0. Loop through the data\n",
        "for epoch in range(epochs):\n",
        "    # Set the model to training mode\n",
        "    model_0.train() # train mode in PyTorch sets all parameters that require gradients to 'require gradients'\n",
        "\n",
        "    # 1. Forward pass\n",
        "    y_pred = model_0(X_train)\n",
        "\n",
        "    #2. Calculate the loss\n",
        "    loss = loss_fn(y_pred,Y_train)\n",
        "\n",
        "    #3. Optimiser zero grad\n",
        "    optimiser.zero_grad()\n",
        "\n",
        "    #4. Perform back propagation on the loss with repsect to the parameters of the model\n",
        "    loss.backward()\n",
        "\n",
        "    #5. Step the optimizer (perform the gradient descent)\n",
        "    optimiser.step() # By default how the optimiser changes will accumulate through the loop so... we have to zero them above\n",
        "\n",
        "    ###Testing\n",
        "    model_0.eval() # this turns off different settings in the model not needed for evaluation/testing e.g. dropout/batch norm layers\n",
        "\n",
        "    with torch.inference_mode():  # this turns off gradient tracking & a couple more things behind the scene\n",
        "        # 1. Forward pass\n",
        "        test_pred = model_0(X_test)\n",
        "        # 2. Calculate loss\n",
        "        test_loss=loss_fn(test_pred,Y_test)\n",
        "        # Print out whats happening\n",
        "        if epoch % 10 == 0:\n",
        "              epoch_count.append(epoch)\n",
        "              loss_values.append(loss)\n",
        "              test_loss_values.append(test_loss)\n",
        "              print(f\"Epoch: {epoch} | Test: {loss} | Test loss: {test_loss}\")\n"
      ],
      "metadata": {
        "id": "FjkakyIK68XC",
        "outputId": "607a9fd6-ec5d-4359-b2a8-50afc3b91ffc",
        "colab": {
          "base_uri": "https://localhost:8080/"
        }
      },
      "execution_count": 52,
      "outputs": [
        {
          "output_type": "stream",
          "name": "stdout",
          "text": [
            "Epoch: 0 | Test: 0.31288138031959534 | Test loss: 0.48106518387794495\n",
            "Epoch: 10 | Test: 0.1976713240146637 | Test loss: 0.3463551998138428\n",
            "Epoch: 20 | Test: 0.08908725529909134 | Test loss: 0.21729660034179688\n",
            "Epoch: 30 | Test: 0.053148526698350906 | Test loss: 0.14464017748832703\n",
            "Epoch: 40 | Test: 0.04543796554207802 | Test loss: 0.11360953003168106\n",
            "Epoch: 50 | Test: 0.04167863354086876 | Test loss: 0.09919948130846024\n",
            "Epoch: 60 | Test: 0.03818932920694351 | Test loss: 0.08886633068323135\n",
            "Epoch: 70 | Test: 0.03476089984178543 | Test loss: 0.0805937647819519\n",
            "Epoch: 80 | Test: 0.03132382780313492 | Test loss: 0.07232122868299484\n",
            "Epoch: 90 | Test: 0.02788739837706089 | Test loss: 0.06473556160926819\n",
            "Epoch: 100 | Test: 0.024458957836031914 | Test loss: 0.05646304413676262\n",
            "Epoch: 110 | Test: 0.021020207554101944 | Test loss: 0.04819049686193466\n",
            "Epoch: 120 | Test: 0.01758546568453312 | Test loss: 0.04060482233762741\n",
            "Epoch: 130 | Test: 0.014155393466353416 | Test loss: 0.03233227878808975\n",
            "Epoch: 140 | Test: 0.010716589167714119 | Test loss: 0.024059748277068138\n",
            "Epoch: 150 | Test: 0.0072835334576666355 | Test loss: 0.016474086791276932\n",
            "Epoch: 160 | Test: 0.0038517764769494534 | Test loss: 0.008201557211577892\n",
            "Epoch: 170 | Test: 0.008932482451200485 | Test loss: 0.005023092031478882\n",
            "Epoch: 180 | Test: 0.008932482451200485 | Test loss: 0.005023092031478882\n",
            "Epoch: 190 | Test: 0.008932482451200485 | Test loss: 0.005023092031478882\n"
          ]
        }
      ]
    },
    {
      "cell_type": "code",
      "source": [
        "# Plot the loss values\n",
        "plt.plot(epoch_count,torch.tensor(loss_values).cpu().numpy(),label=\"Train loss\")\n",
        "plt.plot(epoch_count,torch.tensor(test_loss_values).cpu().numpy(),label=\"Test loss\")\n",
        "plt.title(\"Training and test loss curves\")\n",
        "plt.show()"
      ],
      "metadata": {
        "id": "CNgsNDTCZ2yy",
        "outputId": "a2f82f42-cc72-4ea2-9642-0dd99eeccbcd",
        "colab": {
          "base_uri": "https://localhost:8080/",
          "height": 452
        }
      },
      "execution_count": 53,
      "outputs": [
        {
          "output_type": "display_data",
          "data": {
            "text/plain": [
              "<Figure size 640x480 with 1 Axes>"
            ],
            "image/png": "[encoded data removed]"
          },
          "metadata": {}
        }
      ]
    },
    {
      "cell_type": "code",
      "source": [
        "with torch.inference_mode():\n",
        "  y_preds_new = model_0(X_test)\n",
        "\n",
        "plotPrediction(predictions = y_preds_new)"
      ],
      "metadata": {
        "id": "Mm-VeXGV_IBT",
        "outputId": "0a3ea341-bff1-444d-f517-2dbedc28a894",
        "colab": {
          "base_uri": "https://localhost:8080/",
          "height": 486
        }
      },
      "execution_count": 54,
      "outputs": [
        {
          "output_type": "display_data",
          "data": {
            "text/plain": [
              "<Figure size 1000x700 with 1 Axes>"
            ],
            "image/png": "[encoded data removed]"
          },
          "metadata": {}
        }
      ]
    },
    {
      "cell_type": "markdown",
      "source": [
        "## Saving a model in PyTorch\n",
        "\n",
        "There are three main methods for saving and loading models in PyTorch.\n",
        "\n",
        "1. `torch.save()` - this allows you to save a PyTorch object in pythons pickle format.\n",
        "2. `torch.load()` allows you to load a saved PyTorch object.\n",
        "3. `torch.nn.module.load_state_dict()` - this allows you to load a models saved state dictionary\n"
      ],
      "metadata": {
        "id": "-MaJR7wPbtKm"
      }
    },
    {
      "cell_type": "code",
      "source": [
        "# Saving our Pytorch model\n",
        "\n",
        "from pathlib import Path\n",
        "\n",
        "#1. Create models directory\n",
        "MODEL_PATH = Path('models')\n",
        "MODEL_PATH.mkdir(parents=True,exist_ok=True)\n",
        "\n",
        "#2. Create model save path\n",
        "\n",
        "MODEL_NAME = \"01_PyTorch_workflow_model_0.pth\"\n",
        "MODEL_SAVE_PATH = MODEL_PATH / MODEL_NAME\n",
        "\n",
        "# 3. Save the model state dict\n",
        "print(f\"Saving model to: {MODEL_SAVE_PATH}\")\n",
        "\n",
        "torch.save(obj = model_0.state_dict(),\n",
        "           f = MODEL_SAVE_PATH)\n"
      ],
      "metadata": {
        "id": "RCj17vbZbxRE",
        "outputId": "e42038e3-00c4-4fa3-d0d4-c6433073dc81",
        "colab": {
          "base_uri": "https://localhost:8080/"
        }
      },
      "execution_count": 55,
      "outputs": [
        {
          "output_type": "stream",
          "name": "stdout",
          "text": [
            "Saving model to: models/01_PyTorch_workflow_model_0.pth\n"
          ]
        }
      ]
    },
    {
      "cell_type": "markdown",
      "source": [
        "## Loading a PyTorch Model\n",
        "\n",
        "Since we saved our models `state_dict()` rather than the entire model, we'll create a new instance of our model class and load the saved `state_dict()` into that."
      ],
      "metadata": {
        "id": "W3WjZH69enNf"
      }
    },
    {
      "cell_type": "code",
      "source": [
        "model_0.state_dict()\n"
      ],
      "metadata": {
        "id": "Xp1g9HOhe8r3",
        "outputId": "782286db-6505-4df7-9946-5c7524d3e859",
        "colab": {
          "base_uri": "https://localhost:8080/"
        }
      },
      "execution_count": 56,
      "outputs": [
        {
          "output_type": "execute_result",
          "data": {
            "text/plain": [
              "OrderedDict([('weights', tensor([0.6990])), ('bias', tensor([0.3093]))])"
            ]
          },
          "metadata": {},
          "execution_count": 56
        }
      ]
    },
    {
      "cell_type": "code",
      "source": [
        "# To load in a saved state dict we need to instantiate a new instance of our model class\n",
        "\n",
        "loaded_model_0 = LinearRegressionModel()\n",
        "\n",
        "# Load the saved state_dict of model_0 (this will update the new instance with updated parameters)\n",
        "\n",
        "loaded_model_0.load_state_dict(torch.load(f=MODEL_SAVE_PATH))"
      ],
      "metadata": {
        "id": "7NKfbDi8fALH",
        "outputId": "d703c43a-69b9-4b9a-986c-b1c197f3c8db",
        "colab": {
          "base_uri": "https://localhost:8080/"
        }
      },
      "execution_count": 57,
      "outputs": [
        {
          "output_type": "execute_result",
          "data": {
            "text/plain": [
              "<All keys matched successfully>"
            ]
          },
          "metadata": {},
          "execution_count": 57
        }
      ]
    },
    {
      "cell_type": "code",
      "source": [
        "# Make some predictions with our loaded model\n",
        "\n",
        "loaded_model_0.eval()\n",
        "with torch.inference_mode():\n",
        "    loaded_model_preds = loaded_model_0(X_test)\n",
        "\n",
        "y_preds_new == loaded_model_preds"
      ],
      "metadata": {
        "id": "VS0FdpaMfjey",
        "outputId": "fdf7439d-d1b4-42a7-cecc-046e709ed3ab",
        "colab": {
          "base_uri": "https://localhost:8080/"
        }
      },
      "execution_count": 58,
      "outputs": [
        {
          "output_type": "execute_result",
          "data": {
            "text/plain": [
              "tensor([[True],\n",
              "        [True],\n",
              "        [True],\n",
              "        [True],\n",
              "        [True],\n",
              "        [True],\n",
              "        [True],\n",
              "        [True],\n",
              "        [True],\n",
              "        [True]])"
            ]
          },
          "metadata": {},
          "execution_count": 58
        }
      ]
    },
    {
      "cell_type": "markdown",
      "source": [
        "## 6. Putting it all together\n",
        "\n",
        "Lets go back through the steps above and see it all in one place"
      ],
      "metadata": {
        "id": "d_JeR2UQh7iD"
      }
    },
    {
      "cell_type": "code",
      "source": [
        "# Import PyTorch and matplotlib\n",
        "\n",
        "import torch\n",
        "from torch import nn\n",
        "import matplotlib.pyplot as plt\n",
        "import numpy as np\n",
        "\n",
        "# Check PyTorch version\n",
        "\n",
        "torch.__version__"
      ],
      "metadata": {
        "id": "Z4e2jEn9iNAU",
        "outputId": "3608960a-6443-45a4-bfa7-b5a4e9ecf17e",
        "colab": {
          "base_uri": "https://localhost:8080/",
          "height": 35
        }
      },
      "execution_count": 59,
      "outputs": [
        {
          "output_type": "execute_result",
          "data": {
            "text/plain": [
              "'2.0.1+cu118'"
            ],
            "application/vnd.google.colaboratory.intrinsic+json": {
              "type": "string"
            }
          },
          "metadata": {},
          "execution_count": 59
        }
      ]
    },
    {
      "cell_type": "markdown",
      "source": [
        "### Create device agnostic code\n",
        "\n",
        "This means if we've got access to a GPU, our code will use it.\n",
        "\n",
        "If no GPU is avilable, the code will default to a CPU"
      ],
      "metadata": {
        "id": "t5jTzjnSidZV"
      }
    },
    {
      "cell_type": "code",
      "source": [
        "#Setup device agnostic code\n",
        "device =\"cuda\" if torch.cuda.is_available() else \"cpu\"\n",
        "print(f\" Our device is: {device}\")"
      ],
      "metadata": {
        "id": "U0X2qz2UirA3",
        "outputId": "dc9305ca-9437-4c72-af22-e7d8eab92df3",
        "colab": {
          "base_uri": "https://localhost:8080/"
        }
      },
      "execution_count": 60,
      "outputs": [
        {
          "output_type": "stream",
          "name": "stdout",
          "text": [
            " Our device is: cuda\n"
          ]
        }
      ]
    },
    {
      "cell_type": "markdown",
      "source": [
        "###6.1 Data"
      ],
      "metadata": {
        "id": "noaifnQgiGlc"
      }
    },
    {
      "cell_type": "markdown",
      "source": [
        "\n",
        "# Create some data usig the linear regression formula"
      ],
      "metadata": {
        "id": "aSnil1qJa1F5"
      }
    },
    {
      "cell_type": "code",
      "source": [
        "Weight = 0.7\n",
        "bias = 0.3\n",
        "\n",
        "# Create a range of values\n",
        "start = 0\n",
        "end  = 1\n",
        "step = 0.02\n",
        "\n",
        "#Create features and labels\n",
        "X = torch.arange(start,end,step).unsqueeze(dim=1) #without unsqueeze, errors wil pop up\n",
        "Y = weight*X+bias\n",
        "X[:10],Y[:10]"
      ],
      "metadata": {
        "id": "u_ihV2O_a5y5",
        "outputId": "f4a48e31-069c-4410-941a-6ebc4fb63a3a",
        "colab": {
          "base_uri": "https://localhost:8080/"
        }
      },
      "execution_count": 61,
      "outputs": [
        {
          "output_type": "execute_result",
          "data": {
            "text/plain": [
              "(tensor([[0.0000],\n",
              "         [0.0200],\n",
              "         [0.0400],\n",
              "         [0.0600],\n",
              "         [0.0800],\n",
              "         [0.1000],\n",
              "         [0.1200],\n",
              "         [0.1400],\n",
              "         [0.1600],\n",
              "         [0.1800]]),\n",
              " tensor([[0.3000],\n",
              "         [0.3140],\n",
              "         [0.3280],\n",
              "         [0.3420],\n",
              "         [0.3560],\n",
              "         [0.3700],\n",
              "         [0.3840],\n",
              "         [0.3980],\n",
              "         [0.4120],\n",
              "         [0.4260]]))"
            ]
          },
          "metadata": {},
          "execution_count": 61
        }
      ]
    },
    {
      "cell_type": "code",
      "source": [
        "# Split data\n",
        "\n",
        "train_split = int(0.8*len(X))\n",
        "X_train,Y_train = X[:train_split],Y[:train_split]\n",
        "X_test,Y_test = X[train_split:],Y[train_split:]\n",
        "\n",
        "len(X_train),len(Y_train),len(X_test),len(Y_test)"
      ],
      "metadata": {
        "id": "9c7MM6j-bQ_k",
        "outputId": "6e21b727-1f71-4d81-b863-aa0a0e1861db",
        "colab": {
          "base_uri": "https://localhost:8080/"
        }
      },
      "execution_count": 62,
      "outputs": [
        {
          "output_type": "execute_result",
          "data": {
            "text/plain": [
              "(40, 40, 10, 10)"
            ]
          },
          "metadata": {},
          "execution_count": 62
        }
      ]
    },
    {
      "cell_type": "code",
      "source": [
        "# Plot data\n",
        "\n",
        "#Needs plot predictions function loaded\n",
        "\n",
        "plotPrediction(X_train,Y_train,X_test,Y_test)"
      ],
      "metadata": {
        "id": "Qep0f55rbjyW",
        "outputId": "4d2587ee-54ce-443d-fae8-ef86347d3a3c",
        "colab": {
          "base_uri": "https://localhost:8080/",
          "height": 486
        }
      },
      "execution_count": 63,
      "outputs": [
        {
          "output_type": "display_data",
          "data": {
            "text/plain": [
              "<Figure size 1000x700 with 1 Axes>"
            ],
            "image/png": "[encoded data removed]"
          },
          "metadata": {}
        }
      ]
    },
    {
      "cell_type": "markdown",
      "source": [
        "## 6.2 Building a PyTorch linear Model"
      ],
      "metadata": {
        "id": "G2yJ3ED6b2q6"
      }
    },
    {
      "cell_type": "code",
      "source": [
        "# Create a linear model by subclassing nn.Module\n",
        "\n",
        "class LinearRegressionModelV2(nn.Module):\n",
        "  def __init__(self):\n",
        "    super().__init__()\n",
        "    # Use nn.Linear() for creating the model parameters\n",
        "\n",
        "    self.linear_layer = nn.Linear(in_features = 1,\n",
        "                                  out_features = 1)\n",
        "\n",
        "  def forward(self,x: torch.Tensor) -> torch.Tensor:\n",
        "    return self.linear_layer(x)\n",
        "# Set manual seed\n",
        "\n",
        "torch.manual_seed(42)\n",
        "model_1 = LinearRegressionModelV2()\n",
        "model_1, model_1.state_dict()"
      ],
      "metadata": {
        "id": "JiLYz3IUb-dm",
        "outputId": "a8f3f126-b9bf-4937-9637-d702cb0a5cc1",
        "colab": {
          "base_uri": "https://localhost:8080/"
        }
      },
      "execution_count": 64,
      "outputs": [
        {
          "output_type": "execute_result",
          "data": {
            "text/plain": [
              "(LinearRegressionModelV2(\n",
              "   (linear_layer): Linear(in_features=1, out_features=1, bias=True)\n",
              " ),\n",
              " OrderedDict([('linear_layer.weight', tensor([[0.7645]])),\n",
              "              ('linear_layer.bias', tensor([0.8300]))]))"
            ]
          },
          "metadata": {},
          "execution_count": 64
        }
      ]
    },
    {
      "cell_type": "code",
      "source": [
        "# Check current device\n",
        "\n",
        "next(model_1.parameters()).device"
      ],
      "metadata": {
        "id": "4vHx_Q5ceiHx",
        "outputId": "79c83513-69c6-4161-aef1-3d0e1cbc598b",
        "colab": {
          "base_uri": "https://localhost:8080/"
        }
      },
      "execution_count": 65,
      "outputs": [
        {
          "output_type": "execute_result",
          "data": {
            "text/plain": [
              "device(type='cpu')"
            ]
          },
          "metadata": {},
          "execution_count": 65
        }
      ]
    },
    {
      "cell_type": "code",
      "source": [
        "# Set the model to use the target device\n",
        "model_1.to(device)\n",
        "next(model_1.parameters()).device"
      ],
      "metadata": {
        "id": "2lWHwCm6edPf",
        "outputId": "aa3dabbc-72fd-422d-83b1-917a7469c900",
        "colab": {
          "base_uri": "https://localhost:8080/"
        }
      },
      "execution_count": 66,
      "outputs": [
        {
          "output_type": "execute_result",
          "data": {
            "text/plain": [
              "device(type='cuda', index=0)"
            ]
          },
          "metadata": {},
          "execution_count": 66
        }
      ]
    },
    {
      "cell_type": "markdown",
      "source": [
        "### 6.3 Training\n",
        "\n",
        "For training we need:\n",
        "\n",
        "* loss function\n",
        "* optimiser\n",
        "* training loop\n",
        "* testing loop"
      ],
      "metadata": {
        "id": "6jCcGrq2e0P1"
      }
    },
    {
      "cell_type": "code",
      "source": [
        "# Setup loss function\n",
        "\n",
        "loss_fn = nn.L1Loss()\n",
        "\n",
        "# Setup optimiser\n",
        "\n",
        "optimiser = torch.optim.SGD(params = model_1.parameters(),\n",
        "                              lr = 0.01\n",
        "                            )\n",
        "\n",
        "\n"
      ],
      "metadata": {
        "id": "ap1_L3wRfAb4"
      },
      "execution_count": 67,
      "outputs": []
    },
    {
      "cell_type": "code",
      "source": [
        "# Lets write a training loop\n",
        "\n",
        "torch.manual_seed(42)\n",
        "\n",
        "epochs = 200\n",
        "\n",
        "# Put data on target device (device agnostic code for data)\n",
        "X_train = X_train.to(device)\n",
        "Y_train = Y_train.to(device)\n",
        "X_test = X_test.to(device)\n",
        "Y_test = Y_test.to(device)\n",
        "\n",
        "\n",
        "for epoch in range (epochs):\n",
        "  model_1.train()\n",
        "\n",
        "  # 1. Forward pass\n",
        "  Y_pred = model_1(X_train)\n",
        "\n",
        "  #2. Calc Loss\n",
        "  loss = loss_fn(Y_pred,Y_train)\n",
        "\n",
        "  #3. Optimiser zero grad\n",
        "  optimiser.zero_grad()\n",
        "\n",
        "  #4. Perform backpropagation\n",
        "  loss.backward()\n",
        "\n",
        "  # 5. Optimiser step\n",
        "  optimiser.step()\n",
        "\n",
        "\n",
        "  ### Testing\n",
        "  model_1.eval()\n",
        "  with torch.inference_mode():\n",
        "    test_pred = model_1(X_test)\n",
        "\n",
        "    test_loss = loss_fn(test_pred,Y_test)\n",
        "\n",
        "  # Print out whats happening\n",
        "\n",
        "  if epoch%10 == 0:\n",
        "    print(f\"Epoch: {epoch} | Loss: {loss}  | test loss: {test_loss}\")\n",
        "\n",
        "\n"
      ],
      "metadata": {
        "id": "8lLJSVIofZ36",
        "outputId": "4fa2545b-1bfd-4d93-f7c8-ddb9278bea3b",
        "colab": {
          "base_uri": "https://localhost:8080/"
        }
      },
      "execution_count": 68,
      "outputs": [
        {
          "output_type": "stream",
          "name": "stdout",
          "text": [
            "Epoch: 0 | Loss: 0.5551779866218567  | test loss: 0.5739762187004089\n",
            "Epoch: 10 | Loss: 0.439968079328537  | test loss: 0.4392664134502411\n",
            "Epoch: 20 | Loss: 0.3247582018375397  | test loss: 0.30455657839775085\n",
            "Epoch: 30 | Loss: 0.20954833924770355  | test loss: 0.16984669864177704\n",
            "Epoch: 40 | Loss: 0.09433845430612564  | test loss: 0.03513690456748009\n",
            "Epoch: 50 | Loss: 0.023886388167738914  | test loss: 0.04784907028079033\n",
            "Epoch: 60 | Loss: 0.019956795498728752  | test loss: 0.045803118497133255\n",
            "Epoch: 70 | Loss: 0.016517987474799156  | test loss: 0.037530567497015\n",
            "Epoch: 80 | Loss: 0.013089174404740334  | test loss: 0.02994490973651409\n",
            "Epoch: 90 | Loss: 0.009653178043663502  | test loss: 0.02167237363755703\n",
            "Epoch: 100 | Loss: 0.006215683650225401  | test loss: 0.014086711220443249\n",
            "Epoch: 110 | Loss: 0.00278724217787385  | test loss: 0.005814164876937866\n",
            "Epoch: 120 | Loss: 0.0012645035749301314  | test loss: 0.013801801018416882\n",
            "Epoch: 130 | Loss: 0.0012645035749301314  | test loss: 0.013801801018416882\n",
            "Epoch: 140 | Loss: 0.0012645035749301314  | test loss: 0.013801801018416882\n",
            "Epoch: 150 | Loss: 0.0012645035749301314  | test loss: 0.013801801018416882\n",
            "Epoch: 160 | Loss: 0.0012645035749301314  | test loss: 0.013801801018416882\n",
            "Epoch: 170 | Loss: 0.0012645035749301314  | test loss: 0.013801801018416882\n",
            "Epoch: 180 | Loss: 0.0012645035749301314  | test loss: 0.013801801018416882\n",
            "Epoch: 190 | Loss: 0.0012645035749301314  | test loss: 0.013801801018416882\n"
          ]
        }
      ]
    },
    {
      "cell_type": "markdown",
      "source": [
        "### 6.4 Making and Evaluating predictions"
      ],
      "metadata": {
        "id": "lKwQEvGkfnob"
      }
    },
    {
      "cell_type": "code",
      "source": [
        "# Turn model into eval mode\n",
        "model_1.eval()\n",
        "\n",
        "# Make preductions on the test data\n",
        "\n",
        "with torch.inference_mode():\n",
        "  y_preds = model_1(X_test)\n",
        "y_preds\n",
        "\n"
      ],
      "metadata": {
        "id": "eItZlpvshcyI",
        "outputId": "2d543d25-94cc-474d-c803-77c1022327a5",
        "colab": {
          "base_uri": "https://localhost:8080/"
        }
      },
      "execution_count": 71,
      "outputs": [
        {
          "output_type": "execute_result",
          "data": {
            "text/plain": [
              "tensor([[0.8600],\n",
              "        [0.8739],\n",
              "        [0.8878],\n",
              "        [0.9018],\n",
              "        [0.9157],\n",
              "        [0.9296],\n",
              "        [0.9436],\n",
              "        [0.9575],\n",
              "        [0.9714],\n",
              "        [0.9854]], device='cuda:0')"
            ]
          },
          "metadata": {},
          "execution_count": 71
        }
      ]
    },
    {
      "cell_type": "code",
      "source": [
        "# Check out predictions\n",
        "\n",
        "plotPrediction(predictions = y_preds.cpu())"
      ],
      "metadata": {
        "id": "1Q-khrOVhns0",
        "outputId": "b7f8239d-7e3c-4af7-b942-c692d0f2d81d",
        "colab": {
          "base_uri": "https://localhost:8080/",
          "height": 486
        }
      },
      "execution_count": 74,
      "outputs": [
        {
          "output_type": "display_data",
          "data": {
            "text/plain": [
              "<Figure size 1000x700 with 1 Axes>"
            ],
            "image/png": "[encoded data removed]"
          },
          "metadata": {}
        }
      ]
    },
    {
      "cell_type": "markdown",
      "source": [
        "### 6.5 Saving and loading a trained model"
      ],
      "metadata": {
        "id": "Uv8jDr63h7ld"
      }
    },
    {
      "cell_type": "code",
      "source": [
        "# Saving our Pytorch model\n",
        "\n",
        "from pathlib import Path\n",
        "\n",
        "#1. Create models directory\n",
        "MODEL_PATH = Path('models')\n",
        "MODEL_PATH.mkdir(parents=True,exist_ok=True)\n",
        "\n",
        "#2. Create model save path\n",
        "\n",
        "MODEL_NAME = \"01_PyTorch_workflow_model_1.pth\"\n",
        "MODEL_SAVE_PATH = MODEL_PATH / MODEL_NAME\n",
        "\n",
        "# 3. Save the model state dict\n",
        "print(f\"Saving model to: {MODEL_SAVE_PATH}\")\n",
        "\n",
        "torch.save(obj = model_1.state_dict(),\n",
        "           f = MODEL_SAVE_PATH)\n"
      ],
      "metadata": {
        "outputId": "ea5373bc-f15e-4156-d5b8-b67e9df2d6f6",
        "colab": {
          "base_uri": "https://localhost:8080/"
        },
        "id": "A9eU08FWiDas"
      },
      "execution_count": 75,
      "outputs": [
        {
          "output_type": "stream",
          "name": "stdout",
          "text": [
            "Saving model to: models/01_PyTorch_workflow_model_1.pth\n"
          ]
        }
      ]
    },
    {
      "cell_type": "markdown",
      "source": [
        "\n",
        "**Got to 8:20 in video**"
      ],
      "metadata": {
        "id": "iOGU_I52iQeg"
      }
    }
  ]
}